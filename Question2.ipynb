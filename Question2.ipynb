{
 "cells": [
  {
   "cell_type": "markdown",
   "id": "f3b079f5-a318-41cd-b8b3-bcc9c11623c2",
   "metadata": {},
   "source": [
    "<h2>ATL Braves Data Wrangling</h2>"
   ]
  },
  {
   "cell_type": "code",
   "execution_count": 1,
   "id": "2703cbd9-0e34-475d-bd7b-f709b623b70d",
   "metadata": {},
   "outputs": [],
   "source": [
    "import requests\n",
    "import pandas as pd\n",
    "import sqlite3\n",
    "import openpyxl"
   ]
  },
  {
   "cell_type": "markdown",
   "id": "3cf1be31-a7a3-44bc-a380-4cf47dc52596",
   "metadata": {},
   "source": [
    "make sure the connection to the API is valid"
   ]
  },
  {
   "cell_type": "code",
   "execution_count": 3,
   "id": "aff04acf-aecd-44af-be67-4bf202571d43",
   "metadata": {},
   "outputs": [
    {
     "name": "stdout",
     "output_type": "stream",
     "text": [
      "200\n"
     ]
    }
   ],
   "source": [
    "url = 'https://statsapi.mlb.com/api/v1/stats?stats=season&group=pitching&playerPool=all&season=2018&teamId=144'\n",
    "response = requests.get(url)\n",
    "print(response.status_code)\n",
    "\n",
    "data = response.json()"
   ]
  },
  {
   "cell_type": "markdown",
   "id": "bd351d48-c223-4b5a-852f-7b862058ed5e",
   "metadata": {},
   "source": [
    "connect to the SQLite database"
   ]
  },
  {
   "cell_type": "code",
   "execution_count": 5,
   "id": "17f7b7aa-d0d6-4faa-a117-891261e83917",
   "metadata": {},
   "outputs": [
    {
     "name": "stdout",
     "output_type": "stream",
     "text": [
      "Conncetion successful\n"
     ]
    }
   ],
   "source": [
    "try:\n",
    "\n",
    "    connection = sqlite3.connect('C:/Users/taylo/OneDrive/Documents/Personal/Projects/ATL Braves/main')\n",
    "    print('Conncetion successful')\n",
    "except sqlite3.Error as err:\n",
    "    print(\"Failed to connect to db: \", err)\n",
    "\n",
    "\n",
    "cursor = connection.cursor()"
   ]
  },
  {
   "cell_type": "markdown",
   "id": "f4c6a227-45a7-444c-9dba-bcf071fb24c1",
   "metadata": {},
   "source": [
    "load the data from the API into a pandas dataframe named statsAPIdf, then load the data from the database into a pandas dataframe named pitch_by_pitch_df . <br>\n",
    "Once loaded, the dataframe can be exported to a CSV file. "
   ]
  },
  {
   "cell_type": "code",
   "execution_count": 7,
   "id": "358445c3-3bcd-4496-a675-f1b03367c0a1",
   "metadata": {},
   "outputs": [],
   "source": [
    "pitch_by_pitch_df = pd.read_sql('SELECT * FROM PITCHBYPITCH', connection)\n",
    "statsAPIdf = pd.json_normalize(data, record_path=['stats', 'splits'])\n",
    "statsAPIdf = statsAPIdf.rename(columns=lambda x: x.replace('stat.', ''))\n",
    "statsAPIdf.to_excel('C:/Users/taylo/OneDrive/Documents/Personal/Projects/ATL Braves/statsAPImlb.xlsx')"
   ]
  },
  {
   "cell_type": "code",
   "execution_count": 25,
   "id": "7f6e973f-6f09-4569-b1f1-7ab2d52b5b27",
   "metadata": {},
   "outputs": [
    {
     "data": {
      "text/html": [
       "<div>\n",
       "<style scoped>\n",
       "    .dataframe tbody tr th:only-of-type {\n",
       "        vertical-align: middle;\n",
       "    }\n",
       "\n",
       "    .dataframe tbody tr th {\n",
       "        vertical-align: top;\n",
       "    }\n",
       "\n",
       "    .dataframe thead th {\n",
       "        text-align: right;\n",
       "    }\n",
       "</style>\n",
       "<table border=\"1\" class=\"dataframe\">\n",
       "  <thead>\n",
       "    <tr style=\"text-align: right;\">\n",
       "      <th></th>\n",
       "      <th>GameKey</th>\n",
       "      <th>GameDate</th>\n",
       "      <th>PitcherName</th>\n",
       "      <th>PitcherID</th>\n",
       "      <th>PA_OF_INNING</th>\n",
       "      <th>PITCH_OF_PA</th>\n",
       "      <th>INNING</th>\n",
       "      <th>TOP_BOT</th>\n",
       "      <th>BALLS</th>\n",
       "      <th>STRIKES</th>\n",
       "      <th>SWING_TAKE</th>\n",
       "      <th>IS_SINGLE</th>\n",
       "      <th>IS_DOUBLE</th>\n",
       "      <th>IS_TRIPLE</th>\n",
       "      <th>IS_HOMERUN</th>\n",
       "      <th>IS_HIT</th>\n",
       "      <th>IS_OUT</th>\n",
       "      <th>LAST_PITCH_OF_PA</th>\n",
       "      <th>IS_STRIKEOUT</th>\n",
       "    </tr>\n",
       "  </thead>\n",
       "  <tbody>\n",
       "    <tr>\n",
       "      <th>0</th>\n",
       "      <td>298505</td>\n",
       "      <td>6/6/2018</td>\n",
       "      <td>Venters, Jonny</td>\n",
       "      <td>458924</td>\n",
       "      <td>5</td>\n",
       "      <td>3</td>\n",
       "      <td>1</td>\n",
       "      <td>2</td>\n",
       "      <td>2</td>\n",
       "      <td>0</td>\n",
       "      <td>take</td>\n",
       "      <td>0</td>\n",
       "      <td>0</td>\n",
       "      <td>0</td>\n",
       "      <td>0</td>\n",
       "      <td>0</td>\n",
       "      <td>0</td>\n",
       "      <td>0</td>\n",
       "      <td>0</td>\n",
       "    </tr>\n",
       "    <tr>\n",
       "      <th>1</th>\n",
       "      <td>298505</td>\n",
       "      <td>6/6/2018</td>\n",
       "      <td>Venters, Jonny</td>\n",
       "      <td>458924</td>\n",
       "      <td>5</td>\n",
       "      <td>4</td>\n",
       "      <td>1</td>\n",
       "      <td>2</td>\n",
       "      <td>2</td>\n",
       "      <td>1</td>\n",
       "      <td>take</td>\n",
       "      <td>0</td>\n",
       "      <td>0</td>\n",
       "      <td>0</td>\n",
       "      <td>0</td>\n",
       "      <td>0</td>\n",
       "      <td>0</td>\n",
       "      <td>0</td>\n",
       "      <td>0</td>\n",
       "    </tr>\n",
       "    <tr>\n",
       "      <th>2</th>\n",
       "      <td>298505</td>\n",
       "      <td>6/6/2018</td>\n",
       "      <td>Venters, Jonny</td>\n",
       "      <td>458924</td>\n",
       "      <td>2</td>\n",
       "      <td>3</td>\n",
       "      <td>1</td>\n",
       "      <td>2</td>\n",
       "      <td>2</td>\n",
       "      <td>0</td>\n",
       "      <td>take</td>\n",
       "      <td>0</td>\n",
       "      <td>0</td>\n",
       "      <td>0</td>\n",
       "      <td>0</td>\n",
       "      <td>0</td>\n",
       "      <td>0</td>\n",
       "      <td>0</td>\n",
       "      <td>0</td>\n",
       "    </tr>\n",
       "    <tr>\n",
       "      <th>3</th>\n",
       "      <td>298505</td>\n",
       "      <td>6/6/2018</td>\n",
       "      <td>Venters, Jonny</td>\n",
       "      <td>458924</td>\n",
       "      <td>6</td>\n",
       "      <td>1</td>\n",
       "      <td>1</td>\n",
       "      <td>2</td>\n",
       "      <td>0</td>\n",
       "      <td>0</td>\n",
       "      <td>take</td>\n",
       "      <td>0</td>\n",
       "      <td>0</td>\n",
       "      <td>0</td>\n",
       "      <td>0</td>\n",
       "      <td>0</td>\n",
       "      <td>0</td>\n",
       "      <td>0</td>\n",
       "      <td>0</td>\n",
       "    </tr>\n",
       "    <tr>\n",
       "      <th>4</th>\n",
       "      <td>298505</td>\n",
       "      <td>6/6/2018</td>\n",
       "      <td>Venters, Jonny</td>\n",
       "      <td>458924</td>\n",
       "      <td>1</td>\n",
       "      <td>1</td>\n",
       "      <td>1</td>\n",
       "      <td>2</td>\n",
       "      <td>0</td>\n",
       "      <td>0</td>\n",
       "      <td>swing</td>\n",
       "      <td>1</td>\n",
       "      <td>0</td>\n",
       "      <td>0</td>\n",
       "      <td>0</td>\n",
       "      <td>1</td>\n",
       "      <td>0</td>\n",
       "      <td>1</td>\n",
       "      <td>0</td>\n",
       "    </tr>\n",
       "  </tbody>\n",
       "</table>\n",
       "</div>"
      ],
      "text/plain": [
       "  GameKey  GameDate     PitcherName PitcherID PA_OF_INNING PITCH_OF_PA INNING  \\\n",
       "0  298505  6/6/2018  Venters, Jonny    458924            5           3      1   \n",
       "1  298505  6/6/2018  Venters, Jonny    458924            5           4      1   \n",
       "2  298505  6/6/2018  Venters, Jonny    458924            2           3      1   \n",
       "3  298505  6/6/2018  Venters, Jonny    458924            6           1      1   \n",
       "4  298505  6/6/2018  Venters, Jonny    458924            1           1      1   \n",
       "\n",
       "  TOP_BOT BALLS STRIKES SWING_TAKE IS_SINGLE IS_DOUBLE IS_TRIPLE IS_HOMERUN  \\\n",
       "0       2     2       0       take         0         0         0          0   \n",
       "1       2     2       1       take         0         0         0          0   \n",
       "2       2     2       0       take         0         0         0          0   \n",
       "3       2     0       0       take         0         0         0          0   \n",
       "4       2     0       0      swing         1         0         0          0   \n",
       "\n",
       "  IS_HIT IS_OUT LAST_PITCH_OF_PA IS_STRIKEOUT  \n",
       "0      0      0                0            0  \n",
       "1      0      0                0            0  \n",
       "2      0      0                0            0  \n",
       "3      0      0                0            0  \n",
       "4      1      0                1            0  "
      ]
     },
     "execution_count": 25,
     "metadata": {},
     "output_type": "execute_result"
    }
   ],
   "source": [
    "pitch_by_pitch_df.head()"
   ]
  },
  {
   "cell_type": "code",
   "execution_count": 27,
   "id": "599bba55-3dd7-4e1d-9048-a51521130946",
   "metadata": {},
   "outputs": [
    {
     "data": {
      "text/html": [
       "<div>\n",
       "<style scoped>\n",
       "    .dataframe tbody tr th:only-of-type {\n",
       "        vertical-align: middle;\n",
       "    }\n",
       "\n",
       "    .dataframe tbody tr th {\n",
       "        vertical-align: top;\n",
       "    }\n",
       "\n",
       "    .dataframe thead th {\n",
       "        text-align: right;\n",
       "    }\n",
       "</style>\n",
       "<table border=\"1\" class=\"dataframe\">\n",
       "  <thead>\n",
       "    <tr style=\"text-align: right;\">\n",
       "      <th></th>\n",
       "      <th>season</th>\n",
       "      <th>rank</th>\n",
       "      <th>gamesPlayed</th>\n",
       "      <th>gamesStarted</th>\n",
       "      <th>groundOuts</th>\n",
       "      <th>airOuts</th>\n",
       "      <th>runs</th>\n",
       "      <th>doubles</th>\n",
       "      <th>triples</th>\n",
       "      <th>homeRuns</th>\n",
       "      <th>...</th>\n",
       "      <th>league.id</th>\n",
       "      <th>league.name</th>\n",
       "      <th>league.link</th>\n",
       "      <th>sport.id</th>\n",
       "      <th>sport.link</th>\n",
       "      <th>sport.abbreviation</th>\n",
       "      <th>position.code</th>\n",
       "      <th>position.name</th>\n",
       "      <th>position.type</th>\n",
       "      <th>position.abbreviation</th>\n",
       "    </tr>\n",
       "  </thead>\n",
       "  <tbody>\n",
       "    <tr>\n",
       "      <th>0</th>\n",
       "      <td>2018</td>\n",
       "      <td>1</td>\n",
       "      <td>27</td>\n",
       "      <td>0</td>\n",
       "      <td>26</td>\n",
       "      <td>24</td>\n",
       "      <td>8</td>\n",
       "      <td>2</td>\n",
       "      <td>1</td>\n",
       "      <td>1</td>\n",
       "      <td>...</td>\n",
       "      <td>104</td>\n",
       "      <td>NL</td>\n",
       "      <td>/api/v1/league/104</td>\n",
       "      <td>1</td>\n",
       "      <td>/api/v1/sports/1</td>\n",
       "      <td>MLB</td>\n",
       "      <td>1</td>\n",
       "      <td>Pitcher</td>\n",
       "      <td>Pitcher</td>\n",
       "      <td>P</td>\n",
       "    </tr>\n",
       "    <tr>\n",
       "      <th>1</th>\n",
       "      <td>2018</td>\n",
       "      <td>2</td>\n",
       "      <td>14</td>\n",
       "      <td>0</td>\n",
       "      <td>9</td>\n",
       "      <td>14</td>\n",
       "      <td>3</td>\n",
       "      <td>1</td>\n",
       "      <td>0</td>\n",
       "      <td>2</td>\n",
       "      <td>...</td>\n",
       "      <td>104</td>\n",
       "      <td>NL</td>\n",
       "      <td>/api/v1/league/104</td>\n",
       "      <td>1</td>\n",
       "      <td>/api/v1/sports/1</td>\n",
       "      <td>MLB</td>\n",
       "      <td>1</td>\n",
       "      <td>Pitcher</td>\n",
       "      <td>Pitcher</td>\n",
       "      <td>P</td>\n",
       "    </tr>\n",
       "    <tr>\n",
       "      <th>2</th>\n",
       "      <td>2018</td>\n",
       "      <td>3</td>\n",
       "      <td>39</td>\n",
       "      <td>0</td>\n",
       "      <td>28</td>\n",
       "      <td>43</td>\n",
       "      <td>9</td>\n",
       "      <td>8</td>\n",
       "      <td>0</td>\n",
       "      <td>4</td>\n",
       "      <td>...</td>\n",
       "      <td>104</td>\n",
       "      <td>NL</td>\n",
       "      <td>/api/v1/league/104</td>\n",
       "      <td>1</td>\n",
       "      <td>/api/v1/sports/1</td>\n",
       "      <td>MLB</td>\n",
       "      <td>1</td>\n",
       "      <td>Pitcher</td>\n",
       "      <td>Pitcher</td>\n",
       "      <td>P</td>\n",
       "    </tr>\n",
       "    <tr>\n",
       "      <th>3</th>\n",
       "      <td>2018</td>\n",
       "      <td>4</td>\n",
       "      <td>25</td>\n",
       "      <td>24</td>\n",
       "      <td>142</td>\n",
       "      <td>124</td>\n",
       "      <td>48</td>\n",
       "      <td>21</td>\n",
       "      <td>2</td>\n",
       "      <td>15</td>\n",
       "      <td>...</td>\n",
       "      <td>104</td>\n",
       "      <td>NL</td>\n",
       "      <td>/api/v1/league/104</td>\n",
       "      <td>1</td>\n",
       "      <td>/api/v1/sports/1</td>\n",
       "      <td>MLB</td>\n",
       "      <td>1</td>\n",
       "      <td>Pitcher</td>\n",
       "      <td>Pitcher</td>\n",
       "      <td>P</td>\n",
       "    </tr>\n",
       "    <tr>\n",
       "      <th>4</th>\n",
       "      <td>2018</td>\n",
       "      <td>5</td>\n",
       "      <td>31</td>\n",
       "      <td>31</td>\n",
       "      <td>161</td>\n",
       "      <td>176</td>\n",
       "      <td>65</td>\n",
       "      <td>25</td>\n",
       "      <td>5</td>\n",
       "      <td>17</td>\n",
       "      <td>...</td>\n",
       "      <td>104</td>\n",
       "      <td>NL</td>\n",
       "      <td>/api/v1/league/104</td>\n",
       "      <td>1</td>\n",
       "      <td>/api/v1/sports/1</td>\n",
       "      <td>MLB</td>\n",
       "      <td>1</td>\n",
       "      <td>Pitcher</td>\n",
       "      <td>Pitcher</td>\n",
       "      <td>P</td>\n",
       "    </tr>\n",
       "  </tbody>\n",
       "</table>\n",
       "<p>5 rows × 80 columns</p>\n",
       "</div>"
      ],
      "text/plain": [
       "  season  rank  gamesPlayed  gamesStarted  groundOuts  airOuts  runs  doubles  \\\n",
       "0   2018     1           27             0          26       24     8        2   \n",
       "1   2018     2           14             0           9       14     3        1   \n",
       "2   2018     3           39             0          28       43     9        8   \n",
       "3   2018     4           25            24         142      124    48       21   \n",
       "4   2018     5           31            31         161      176    65       25   \n",
       "\n",
       "   triples  homeRuns  ...  league.id  league.name         league.link  \\\n",
       "0        1         1  ...        104           NL  /api/v1/league/104   \n",
       "1        0         2  ...        104           NL  /api/v1/league/104   \n",
       "2        0         4  ...        104           NL  /api/v1/league/104   \n",
       "3        2        15  ...        104           NL  /api/v1/league/104   \n",
       "4        5        17  ...        104           NL  /api/v1/league/104   \n",
       "\n",
       "   sport.id        sport.link sport.abbreviation  position.code position.name  \\\n",
       "0         1  /api/v1/sports/1                MLB              1       Pitcher   \n",
       "1         1  /api/v1/sports/1                MLB              1       Pitcher   \n",
       "2         1  /api/v1/sports/1                MLB              1       Pitcher   \n",
       "3         1  /api/v1/sports/1                MLB              1       Pitcher   \n",
       "4         1  /api/v1/sports/1                MLB              1       Pitcher   \n",
       "\n",
       "  position.type position.abbreviation  \n",
       "0       Pitcher                     P  \n",
       "1       Pitcher                     P  \n",
       "2       Pitcher                     P  \n",
       "3       Pitcher                     P  \n",
       "4       Pitcher                     P  \n",
       "\n",
       "[5 rows x 80 columns]"
      ]
     },
     "execution_count": 27,
     "metadata": {},
     "output_type": "execute_result"
    }
   ],
   "source": [
    "statsAPIdf.head()"
   ]
  },
  {
   "cell_type": "code",
   "execution_count": 94,
   "id": "1e4f4f43-6b71-4977-923c-f41c1f1c0e66",
   "metadata": {},
   "outputs": [
    {
     "data": {
      "text/plain": [
       "2177"
      ]
     },
     "execution_count": 94,
     "metadata": {},
     "output_type": "execute_result"
    }
   ],
   "source": [
    "len(pitch_by_pitch_df)"
   ]
  },
  {
   "cell_type": "code",
   "execution_count": 96,
   "id": "c0285d35-c162-4c5c-9b7b-01d0774fe85f",
   "metadata": {},
   "outputs": [
    {
     "data": {
      "text/plain": [
       "35"
      ]
     },
     "execution_count": 96,
     "metadata": {},
     "output_type": "execute_result"
    }
   ],
   "source": [
    "len(statsAPIdf)"
   ]
  },
  {
   "cell_type": "markdown",
   "id": "6cfbc10b-ad58-49d0-848c-0ad3cb64862a",
   "metadata": {},
   "source": [
    "**Note** The API data conatins 35 rows of records while the pbp table contains over 2k"
   ]
  },
  {
   "cell_type": "code",
   "execution_count": 48,
   "id": "c98f49e8-c14b-4b67-aaca-342fe8da2199",
   "metadata": {},
   "outputs": [],
   "source": [
    "api_col = set(statsAPIdf.columns)\n",
    "pbp_col = set(pitch_by_pitch_df.columns)"
   ]
  },
  {
   "cell_type": "markdown",
   "id": "6292f354-2a3e-466d-971d-08576384bd0d",
   "metadata": {},
   "source": [
    "The following below are the columns that are in the API that are not in the pitchbypitch table"
   ]
  },
  {
   "cell_type": "code",
   "execution_count": 51,
   "id": "8520aa5e-d07b-4810-b954-c3303f3a7152",
   "metadata": {},
   "outputs": [
    {
     "data": {
      "text/plain": [
       "{'airOuts',\n",
       " 'atBats',\n",
       " 'avg',\n",
       " 'balks',\n",
       " 'baseOnBalls',\n",
       " 'battersFaced',\n",
       " 'blownSaves',\n",
       " 'catchersInterference',\n",
       " 'caughtStealing',\n",
       " 'completeGames',\n",
       " 'doubles',\n",
       " 'earnedRuns',\n",
       " 'era',\n",
       " 'gamesFinished',\n",
       " 'gamesPitched',\n",
       " 'gamesPlayed',\n",
       " 'gamesStarted',\n",
       " 'groundIntoDoublePlay',\n",
       " 'groundOuts',\n",
       " 'groundOutsToAirouts',\n",
       " 'hitBatsmen',\n",
       " 'hitByPitch',\n",
       " 'hits',\n",
       " 'hitsPer9Inn',\n",
       " 'holds',\n",
       " 'homeRuns',\n",
       " 'homeRunsPer9',\n",
       " 'inheritedRunners',\n",
       " 'inheritedRunnersScored',\n",
       " 'inningsPitched',\n",
       " 'intentionalWalks',\n",
       " 'league.id',\n",
       " 'league.link',\n",
       " 'league.name',\n",
       " 'losses',\n",
       " 'numberOfPitches',\n",
       " 'obp',\n",
       " 'ops',\n",
       " 'outs',\n",
       " 'pickoffs',\n",
       " 'pitchesPerInning',\n",
       " 'player.firstName',\n",
       " 'player.fullName',\n",
       " 'player.id',\n",
       " 'player.lastName',\n",
       " 'player.link',\n",
       " 'position.abbreviation',\n",
       " 'position.code',\n",
       " 'position.name',\n",
       " 'position.type',\n",
       " 'rank',\n",
       " 'runs',\n",
       " 'runsScoredPer9',\n",
       " 'sacBunts',\n",
       " 'sacFlies',\n",
       " 'saveOpportunities',\n",
       " 'saves',\n",
       " 'season',\n",
       " 'shutouts',\n",
       " 'slg',\n",
       " 'sport.abbreviation',\n",
       " 'sport.id',\n",
       " 'sport.link',\n",
       " 'stolenBasePercentage',\n",
       " 'stolenBases',\n",
       " 'strikeOuts',\n",
       " 'strikePercentage',\n",
       " 'strikeoutWalkRatio',\n",
       " 'strikeoutsPer9Inn',\n",
       " 'strikes',\n",
       " 'team.id',\n",
       " 'team.link',\n",
       " 'team.name',\n",
       " 'totalBases',\n",
       " 'triples',\n",
       " 'walksPer9Inn',\n",
       " 'whip',\n",
       " 'wildPitches',\n",
       " 'winPercentage',\n",
       " 'wins'}"
      ]
     },
     "execution_count": 51,
     "metadata": {},
     "output_type": "execute_result"
    }
   ],
   "source": [
    "api_col.difference(pbp_col)"
   ]
  },
  {
   "cell_type": "markdown",
   "id": "485da0d0-9701-48d1-aeca-ff991f46466e",
   "metadata": {},
   "source": [
    "The following below are the columns that are in the pbp table that are not in the API"
   ]
  },
  {
   "cell_type": "code",
   "execution_count": 21,
   "id": "71edaae0-cf1a-4be4-a62e-973e243fa74e",
   "metadata": {},
   "outputs": [
    {
     "data": {
      "text/plain": [
       "{'BALLS',\n",
       " 'GameDate',\n",
       " 'GameKey',\n",
       " 'INNING',\n",
       " 'IS_DOUBLE',\n",
       " 'IS_HIT',\n",
       " 'IS_HOMERUN',\n",
       " 'IS_OUT',\n",
       " 'IS_SINGLE',\n",
       " 'IS_STRIKEOUT',\n",
       " 'IS_TRIPLE',\n",
       " 'LAST_PITCH_OF_PA',\n",
       " 'PA_OF_INNING',\n",
       " 'PITCH_OF_PA',\n",
       " 'PitcherID',\n",
       " 'PitcherName',\n",
       " 'STRIKES',\n",
       " 'SWING_TAKE',\n",
       " 'TOP_BOT'}"
      ]
     },
     "execution_count": 21,
     "metadata": {},
     "output_type": "execute_result"
    }
   ],
   "source": [
    "pbp_col.difference(api_col)"
   ]
  },
  {
   "cell_type": "markdown",
   "id": "fb2e9d5c-1188-487a-a866-b52337d8f9b0",
   "metadata": {},
   "source": [
    "**Note** The difference in columns suggests that the pbp table is on a pitch level and the API is tracking stats on a more high level perhaps a season level"
   ]
  },
  {
   "cell_type": "code",
   "execution_count": 42,
   "id": "8cd12b88-0697-4371-a997-ba04f1de6dfd",
   "metadata": {},
   "outputs": [
    {
     "data": {
      "text/plain": [
       "GameKey             object\n",
       "GameDate            object\n",
       "PitcherName         object\n",
       "PitcherID           object\n",
       "PA_OF_INNING        object\n",
       "PITCH_OF_PA         object\n",
       "INNING              object\n",
       "TOP_BOT             object\n",
       "BALLS               object\n",
       "STRIKES             object\n",
       "SWING_TAKE          object\n",
       "IS_SINGLE           object\n",
       "IS_DOUBLE           object\n",
       "IS_TRIPLE           object\n",
       "IS_HOMERUN          object\n",
       "IS_HIT              object\n",
       "IS_OUT              object\n",
       "LAST_PITCH_OF_PA    object\n",
       "IS_STRIKEOUT        object\n",
       "dtype: object"
      ]
     },
     "execution_count": 42,
     "metadata": {},
     "output_type": "execute_result"
    }
   ],
   "source": [
    "pitch_by_pitch_df.dtypes"
   ]
  },
  {
   "cell_type": "code",
   "execution_count": 77,
   "id": "781680e6-a1a2-457b-815f-974f96fb8df8",
   "metadata": {},
   "outputs": [
    {
     "data": {
      "text/plain": [
       "season                   object\n",
       "rank                      int64\n",
       "gamesPlayed               int64\n",
       "gamesStarted              int64\n",
       "groundOuts                int64\n",
       "                          ...  \n",
       "sport.abbreviation       object\n",
       "position.code            object\n",
       "position.name            object\n",
       "position.type            object\n",
       "position.abbreviation    object\n",
       "Length: 80, dtype: object"
      ]
     },
     "execution_count": 77,
     "metadata": {},
     "output_type": "execute_result"
    }
   ],
   "source": [
    "statsAPIdf.dtypes"
   ]
  },
  {
   "cell_type": "markdown",
   "id": "307c2bbf-0be8-4ba5-ba33-2e7e92ba0ae1",
   "metadata": {},
   "source": [
    "**Note** The data from the API contains various data types while the pbp table only contains object data type."
   ]
  },
  {
   "cell_type": "code",
   "execution_count": 82,
   "id": "7f103173-25be-41df-b186-f16a835705f7",
   "metadata": {},
   "outputs": [
    {
     "data": {
      "text/plain": [
       "season                   0\n",
       "rank                     0\n",
       "gamesPlayed              0\n",
       "gamesStarted             0\n",
       "groundOuts               0\n",
       "                        ..\n",
       "sport.abbreviation       0\n",
       "position.code            0\n",
       "position.name            0\n",
       "position.type            0\n",
       "position.abbreviation    0\n",
       "Length: 80, dtype: int64"
      ]
     },
     "execution_count": 82,
     "metadata": {},
     "output_type": "execute_result"
    }
   ],
   "source": [
    "statsAPIdf.isnull().sum()"
   ]
  },
  {
   "cell_type": "code",
   "execution_count": 46,
   "id": "3d101878-9309-4e11-bd28-7e1e84b54db1",
   "metadata": {},
   "outputs": [
    {
     "data": {
      "text/plain": [
       "GameKey             0\n",
       "GameDate            0\n",
       "PitcherName         0\n",
       "PitcherID           0\n",
       "PA_OF_INNING        0\n",
       "PITCH_OF_PA         0\n",
       "INNING              0\n",
       "TOP_BOT             0\n",
       "BALLS               0\n",
       "STRIKES             0\n",
       "SWING_TAKE          0\n",
       "IS_SINGLE           0\n",
       "IS_DOUBLE           0\n",
       "IS_TRIPLE           0\n",
       "IS_HOMERUN          0\n",
       "IS_HIT              0\n",
       "IS_OUT              0\n",
       "LAST_PITCH_OF_PA    0\n",
       "IS_STRIKEOUT        0\n",
       "dtype: int64"
      ]
     },
     "execution_count": 46,
     "metadata": {},
     "output_type": "execute_result"
    }
   ],
   "source": [
    "pitch_by_pitch_df.isnull().sum()"
   ]
  },
  {
   "cell_type": "markdown",
   "id": "60ba5dbc-3a04-478a-97ba-69050d2ad293",
   "metadata": {},
   "source": [
    "<h4>Next Steps to Develop Audit System</h4>"
   ]
  },
  {
   "cell_type": "markdown",
   "id": "2930e7bd-297b-4ccd-99a3-581505f52f62",
   "metadata": {},
   "source": [
    "The first step in developing an audit system for me would be to create documentation. We need to take note of how the audit system was developed and what information it contains. Data dictionaries on each table would be helpful for better understanding and reduce ramp up time."
   ]
  },
  {
   "cell_type": "markdown",
   "id": "7b41e57c-d89f-4846-8fc1-8e66d97932e6",
   "metadata": {},
   "source": [
    "Next we we need to validate the data. Making sure all columns are formatted with the correct data type (making sure stats are numeric to ensure proper mathematical operations). Column names should make the schema of whatever table the records are to be inserted.  "
   ]
  },
  {
   "cell_type": "markdown",
   "id": "6f094aa1-8c66-4e93-b0d8-87436bef6cf9",
   "metadata": {},
   "source": [
    "Additionally, we can add a visualization component to better communicate findings and identify trends and/or errors in the data."
   ]
  },
  {
   "cell_type": "markdown",
   "id": "8e05a259-3f39-4c31-9af3-09303909133d",
   "metadata": {},
   "source": [
    "Lastly, We want to system to be able to pull data real time without having to manually do so. Therefore incorporating an automated process to check for new game data to add to the database will be helpful. "
   ]
  },
  {
   "cell_type": "code",
   "execution_count": null,
   "id": "7e57313b-54c2-4901-bc98-e51af155b24d",
   "metadata": {},
   "outputs": [],
   "source": []
  }
 ],
 "metadata": {
  "kernelspec": {
   "display_name": "Python 3 (ipykernel)",
   "language": "python",
   "name": "python3"
  },
  "language_info": {
   "codemirror_mode": {
    "name": "ipython",
    "version": 3
   },
   "file_extension": ".py",
   "mimetype": "text/x-python",
   "name": "python",
   "nbconvert_exporter": "python",
   "pygments_lexer": "ipython3",
   "version": "3.12.4"
  }
 },
 "nbformat": 4,
 "nbformat_minor": 5
}
